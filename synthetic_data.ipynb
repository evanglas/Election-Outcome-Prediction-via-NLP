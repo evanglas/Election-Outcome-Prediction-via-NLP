{
 "cells": [
  {
   "cell_type": "code",
   "execution_count": 1,
   "metadata": {},
   "outputs": [],
   "source": [
    "from sklearn.naive_bayes import MultinomialNB\n",
    "import pickle\n",
    "import numpy as np\n",
    "from random import choices\n",
    "import pandas as pd"
   ]
  },
  {
   "cell_type": "code",
   "execution_count": 10,
   "metadata": {},
   "outputs": [],
   "source": [
    "with open(\"word_counts_5k.pkl\", \"rb\") as fp:\n",
    "    word_counts = pickle.load(fp)\n",
    "\n",
    "with open(\"nb_count.pkl\", \"rb\") as fp:\n",
    "    nb = pickle.load(fp)\n",
    "\n",
    "with open(\"cv_10k.pkl\", \"rb\") as fp:\n",
    "    cv = pickle.load(fp)"
   ]
  },
  {
   "cell_type": "code",
   "execution_count": 15,
   "metadata": {},
   "outputs": [],
   "source": [
    "word_counts = pd.read_parquet(\"word_counts.parquet\")\n",
    "word_counts[\"tc\"] = word_counts.not_trump + word_counts.trump\n",
    "word_counts.sort_values(\"tc\", ascending=False, inplace=True)\n",
    "word_counts.to_parquet(\"word_counts_10k.parquet\")\n",
    "word_counts\n",
    "df_s = []\n",
    "\n",
    "for i in range(1000):\n",
    "    df_s.append(\n",
    "        (\" \".join(choices(word_counts[\"word\"], word_counts[\"trump\"], k=50)), True)\n",
    "    )\n",
    "    df_s.append(\n",
    "        (\" \".join(choices(word_counts[\"word\"], word_counts[\"not_trump\"], k=50)), False)\n",
    "    )\n",
    "df = pd.DataFrame(df_s, columns=[\"text\", \"trump\"])\n",
    "X_s = cv.transform(df[\"text\"])\n",
    "df.to_parquet(\"df_s.parquet\")\n",
    "nb.score(X_s, df.trump)"
   ]
  }
 ],
 "metadata": {
  "kernelspec": {
   "display_name": "general_DS",
   "language": "python",
   "name": "python3"
  },
  "language_info": {
   "codemirror_mode": {
    "name": "ipython",
    "version": 3
   },
   "file_extension": ".py",
   "mimetype": "text/x-python",
   "name": "python",
   "nbconvert_exporter": "python",
   "pygments_lexer": "ipython3",
   "version": "3.10.13"
  }
 },
 "nbformat": 4,
 "nbformat_minor": 2
}
